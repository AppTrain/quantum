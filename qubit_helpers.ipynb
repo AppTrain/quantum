{
  "nbformat": 4,
  "nbformat_minor": 0,
  "metadata": {
    "kernelspec": {
      "name": "python3",
      "display_name": "Python 3",
      "language": "python"
    },
    "language_info": {
      "name": "python",
      "version": "3.6.10",
      "mimetype": "text/x-python",
      "codemirror_mode": {
        "name": "ipython",
        "version": 3
      },
      "pygments_lexer": "ipython3",
      "nbconvert_exporter": "python",
      "file_extension": ".py"
    },
    "colab": {
      "name": "helpers (13).ipynb",
      "provenance": [],
      "include_colab_link": true
    }
  },
  "cells": [
    {
      "cell_type": "markdown",
      "metadata": {
        "id": "view-in-github",
        "colab_type": "text"
      },
      "source": [
        "<a href=\"https://colab.research.google.com/github/AppTrain/quantum/blob/master/qubit_helpers.ipynb\" target=\"_parent\"><img src=\"https://colab.research.google.com/assets/colab-badge.svg\" alt=\"Open In Colab\"/></a>"
      ]
    },
    {
      "cell_type": "code",
      "metadata": {
        "trusted": true,
        "id": "12o_SnNc6970",
        "colab_type": "code",
        "colab": {}
      },
      "source": [
        "from math import *\n",
        "import numpy as np"
      ],
      "execution_count": 0,
      "outputs": []
    },
    {
      "cell_type": "code",
      "metadata": {
        "trusted": false,
        "id": "IP-KDXDp698F",
        "colab_type": "code",
        "colab": {}
      },
      "source": [
        "def amplitude_probabilities(a,b):\n",
        "    import numpy as np \n",
        "    import warnings\n",
        "    warnings.simplefilter(\"ignore\", np.ComplexWarning)\n",
        "    # if a != np.conj(a):\n",
        "    a = sqrt((a*np.conj(a)).real)\n",
        "    # if b != np.conj(b):\n",
        "    b = sqrt((b*np.conj(b)).real)\n",
        "    mag = sqrt(a**2 + b**2)\n",
        "    return a/mag,b/mag, (a/mag)**2,(b/mag)**2"
      ],
      "execution_count": 0,
      "outputs": []
    },
    {
      "cell_type": "code",
      "metadata": {
        "trusted": false,
        "id": "5dKIAfSt698V",
        "colab_type": "code",
        "colab": {
          "base_uri": "https://localhost:8080/",
          "height": 35
        },
        "outputId": "164187d7-9226-4451-d56d-e1c1040f0f57"
      },
      "source": [
        "amplitude_probabilities(sqrt(3)/2,sqrt(3)/4 + 1j*1/4)"
      ],
      "execution_count": 3,
      "outputs": [
        {
          "output_type": "execute_result",
          "data": {
            "text/plain": [
              "(0.8660254037844387, 0.5, 0.7500000000000001, 0.25)"
            ]
          },
          "metadata": {
            "tags": []
          },
          "execution_count": 3
        }
      ]
    },
    {
      "cell_type": "code",
      "metadata": {
        "trusted": false,
        "id": "zbZX5kYG698o",
        "colab_type": "code",
        "colab": {
          "base_uri": "https://localhost:8080/",
          "height": 88
        },
        "outputId": "7171b570-a9b7-4e16-ebf3-9c686de6e8a3"
      },
      "source": [
        "amplitude_probabilities(7,3)"
      ],
      "execution_count": 4,
      "outputs": [
        {
          "output_type": "execute_result",
          "data": {
            "text/plain": [
              "(0.9191450300180578,\n",
              " 0.39391929857916763,\n",
              " 0.8448275862068964,\n",
              " 0.15517241379310343)"
            ]
          },
          "metadata": {
            "tags": []
          },
          "execution_count": 4
        }
      ]
    },
    {
      "cell_type": "code",
      "metadata": {
        "trusted": false,
        "id": "5DqBW0cb6981",
        "colab_type": "code",
        "colab": {
          "base_uri": "https://localhost:8080/",
          "height": 35
        },
        "outputId": "336f6db1-190b-4a37-847e-a6f62db22d0f"
      },
      "source": [
        "amplitude_probabilities(9,3)"
      ],
      "execution_count": 5,
      "outputs": [
        {
          "output_type": "execute_result",
          "data": {
            "text/plain": [
              "(0.9486832980505138, 0.31622776601683794, 0.8999999999999999, 0.1)"
            ]
          },
          "metadata": {
            "tags": []
          },
          "execution_count": 5
        }
      ]
    },
    {
      "cell_type": "markdown",
      "metadata": {
        "id": "wFGXxAPX699E",
        "colab_type": "text"
      },
      "source": [
        "Single Qubit Gates"
      ]
    },
    {
      "cell_type": "code",
      "metadata": {
        "trusted": true,
        "id": "TDKgCbxS699H",
        "colab_type": "code",
        "colab": {}
      },
      "source": [
        "Ax = np.array([[0,1],[1,0]])"
      ],
      "execution_count": 0,
      "outputs": []
    },
    {
      "cell_type": "code",
      "metadata": {
        "trusted": true,
        "id": "_ATeZ_Qr699T",
        "colab_type": "code",
        "colab": {}
      },
      "source": [
        "Az = np.array([[1,0],[0,-1]])"
      ],
      "execution_count": 0,
      "outputs": []
    },
    {
      "cell_type": "code",
      "metadata": {
        "trusted": true,
        "id": "xx3Cy8jo699h",
        "colab_type": "code",
        "colab": {}
      },
      "source": [
        "Ah = np.array([[1/sqrt(2),1/sqrt(2)],[1/sqrt(2),-1/sqrt(2)]])"
      ],
      "execution_count": 0,
      "outputs": []
    },
    {
      "cell_type": "code",
      "metadata": {
        "trusted": true,
        "id": "4-8MrG-a699t",
        "colab_type": "code",
        "colab": {}
      },
      "source": [
        "As = np.array([[1,0],[0,1j]])"
      ],
      "execution_count": 0,
      "outputs": []
    },
    {
      "cell_type": "code",
      "metadata": {
        "trusted": true,
        "id": "YrK5togy6995",
        "colab_type": "code",
        "colab": {}
      },
      "source": [
        "def Au3(theta,phi,lam):\n",
        "    a = cos(theta/2)\n",
        "    b = (cos(lam) - 1j * sin(lam)).real * sin(theta/2)\n",
        "    c = (cos(phi) + 1j*sin(phi)).real * sin(theta/2)\n",
        "    d = (cos(phi+lam) - 1j*sin(phi+lam)).real * cos(theta/2)\n",
        "    return np.array([[a,b],[c,d]])"
      ],
      "execution_count": 0,
      "outputs": []
    },
    {
      "cell_type": "code",
      "metadata": {
        "trusted": true,
        "id": "3jin_KrF69-E",
        "colab_type": "code",
        "colab": {
          "base_uri": "https://localhost:8080/",
          "height": 53
        },
        "outputId": "0aea87d9-2ee9-4637-b225-9bc149466054"
      },
      "source": [
        "Au3(pi/7,0,pi)"
      ],
      "execution_count": 11,
      "outputs": [
        {
          "output_type": "execute_result",
          "data": {
            "text/plain": [
              "array([[ 0.97492791, -0.22252093],\n",
              "       [ 0.22252093, -0.97492791]])"
            ]
          },
          "metadata": {
            "tags": []
          },
          "execution_count": 11
        }
      ]
    },
    {
      "cell_type": "code",
      "metadata": {
        "trusted": true,
        "id": "R9L0WMci69-2",
        "colab_type": "code",
        "colab": {
          "base_uri": "https://localhost:8080/",
          "height": 53
        },
        "outputId": "0e32acaf-6d01-44d0-9af1-dc35e3ebe908"
      },
      "source": [
        "Ah"
      ],
      "execution_count": 12,
      "outputs": [
        {
          "output_type": "execute_result",
          "data": {
            "text/plain": [
              "array([[ 0.70710678,  0.70710678],\n",
              "       [ 0.70710678, -0.70710678]])"
            ]
          },
          "metadata": {
            "tags": []
          },
          "execution_count": 12
        }
      ]
    },
    {
      "cell_type": "markdown",
      "metadata": {
        "id": "8car12BP69--",
        "colab_type": "text"
      },
      "source": [
        "Two Qubit gates"
      ]
    },
    {
      "cell_type": "code",
      "metadata": {
        "trusted": true,
        "id": "mGfD80B569-_",
        "colab_type": "code",
        "colab": {}
      },
      "source": [
        "Acx = np.array([[1,0,0,0],[0,1,0,0],[0,0,0,1],[0,0,1,0]])"
      ],
      "execution_count": 0,
      "outputs": []
    },
    {
      "cell_type": "code",
      "metadata": {
        "trusted": true,
        "id": "vUvoM3UO69_E",
        "colab_type": "code",
        "colab": {}
      },
      "source": [
        "Acz = np.array([[1,0,0,0],[0,1,0,0],[0,0,1,0],[0,0,0,-1]])"
      ],
      "execution_count": 0,
      "outputs": []
    },
    {
      "cell_type": "code",
      "metadata": {
        "trusted": true,
        "id": "EArZpq9m69_J",
        "colab_type": "code",
        "colab": {
          "base_uri": "https://localhost:8080/",
          "height": 35
        },
        "outputId": "24310701-a940-4397-f34a-fe75b0e9b362"
      },
      "source": [
        "As.dot(Ah).dot([0,1])"
      ],
      "execution_count": 15,
      "outputs": [
        {
          "output_type": "execute_result",
          "data": {
            "text/plain": [
              "array([0.70710678+0.j        , 0.        -0.70710678j])"
            ]
          },
          "metadata": {
            "tags": []
          },
          "execution_count": 15
        }
      ]
    },
    {
      "cell_type": "code",
      "metadata": {
        "trusted": true,
        "id": "t2mFqM5169_N",
        "colab_type": "code",
        "colab": {
          "base_uri": "https://localhost:8080/",
          "height": 35
        },
        "outputId": "55f076bd-b45d-4fb0-fa32-36c476c5f4f1"
      },
      "source": [
        "Acz.dot(Acx).dot(np.array([0,0,1,0]))"
      ],
      "execution_count": 16,
      "outputs": [
        {
          "output_type": "execute_result",
          "data": {
            "text/plain": [
              "array([ 0,  0,  0, -1])"
            ]
          },
          "metadata": {
            "tags": []
          },
          "execution_count": 16
        }
      ]
    },
    {
      "cell_type": "markdown",
      "metadata": {
        "id": "UrgDDHOY69_W",
        "colab_type": "text"
      },
      "source": [
        "Create 2 Qubit pass through gates with Kroneger product of the identity ."
      ]
    },
    {
      "cell_type": "code",
      "metadata": {
        "trusted": true,
        "id": "fPLdw7EV69_W",
        "colab_type": "code",
        "colab": {}
      },
      "source": [
        "Aid = np.array([[1,0],[0,1]])"
      ],
      "execution_count": 0,
      "outputs": []
    },
    {
      "cell_type": "code",
      "metadata": {
        "trusted": true,
        "id": "LFpTzP0Z69_c",
        "colab_type": "code",
        "colab": {}
      },
      "source": [
        "As2 = np.kron(Aid,As)"
      ],
      "execution_count": 0,
      "outputs": []
    },
    {
      "cell_type": "code",
      "metadata": {
        "trusted": true,
        "id": "WBwfYhP169_f",
        "colab_type": "code",
        "colab": {
          "base_uri": "https://localhost:8080/",
          "height": 88
        },
        "outputId": "efedd07b-0b72-4f6b-b52e-57e2db1b99e3"
      },
      "source": [
        "Acz.dot(As2)"
      ],
      "execution_count": 19,
      "outputs": [
        {
          "output_type": "execute_result",
          "data": {
            "text/plain": [
              "array([[1.+0.j, 0.+0.j, 0.+0.j, 0.+0.j],\n",
              "       [0.+0.j, 0.+1.j, 0.+0.j, 0.+0.j],\n",
              "       [0.+0.j, 0.+0.j, 1.+0.j, 0.+0.j],\n",
              "       [0.+0.j, 0.+0.j, 0.+0.j, 0.-1.j]])"
            ]
          },
          "metadata": {
            "tags": []
          },
          "execution_count": 19
        }
      ]
    },
    {
      "cell_type": "code",
      "metadata": {
        "trusted": true,
        "id": "KW7Wq2-S69_j",
        "colab_type": "code",
        "colab": {}
      },
      "source": [
        "Ah2 = np.kron(Ah,Aid)"
      ],
      "execution_count": 0,
      "outputs": []
    },
    {
      "cell_type": "code",
      "metadata": {
        "trusted": true,
        "id": "8vtBYgxJ69_m",
        "colab_type": "code",
        "colab": {
          "base_uri": "https://localhost:8080/",
          "height": 88
        },
        "outputId": "a105c675-f20a-44d6-d44d-74e473c3931e"
      },
      "source": [
        "Ah2"
      ],
      "execution_count": 21,
      "outputs": [
        {
          "output_type": "execute_result",
          "data": {
            "text/plain": [
              "array([[ 0.70710678,  0.        ,  0.70710678,  0.        ],\n",
              "       [ 0.        ,  0.70710678,  0.        ,  0.70710678],\n",
              "       [ 0.70710678,  0.        , -0.70710678, -0.        ],\n",
              "       [ 0.        ,  0.70710678, -0.        , -0.70710678]])"
            ]
          },
          "metadata": {
            "tags": []
          },
          "execution_count": 21
        }
      ]
    },
    {
      "cell_type": "code",
      "metadata": {
        "trusted": true,
        "id": "jZHLStuL69_p",
        "colab_type": "code",
        "colab": {
          "base_uri": "https://localhost:8080/",
          "height": 35
        },
        "outputId": "e2a8bad3-8225-4283-9570-372a04649658"
      },
      "source": [
        "Ah2.dot(Acx).dot([0,0,1,1])"
      ],
      "execution_count": 22,
      "outputs": [
        {
          "output_type": "execute_result",
          "data": {
            "text/plain": [
              "array([ 0.70710678,  0.70710678, -0.70710678, -0.70710678])"
            ]
          },
          "metadata": {
            "tags": []
          },
          "execution_count": 22
        }
      ]
    },
    {
      "cell_type": "markdown",
      "metadata": {
        "id": "eT2oeUuQ69_s",
        "colab_type": "text"
      },
      "source": [
        "Teleportation Circuit"
      ]
    },
    {
      "cell_type": "code",
      "metadata": {
        "trusted": false,
        "id": "ri_8F-eZ69_s",
        "colab_type": "code",
        "colab": {}
      },
      "source": [
        "Aloader = Ah2.dot(Acx)"
      ],
      "execution_count": 0,
      "outputs": []
    },
    {
      "cell_type": "code",
      "metadata": {
        "trusted": false,
        "id": "vXyx7-YA69_w",
        "colab_type": "code",
        "colab": {},
        "outputId": "fadb327d-5282-42d9-eb0b-fbe1f177122e"
      },
      "source": [
        "Aloader"
      ],
      "execution_count": 0,
      "outputs": [
        {
          "output_type": "execute_result",
          "data": {
            "text/plain": [
              "array([[ 0.70710678,  0.        ,  0.        ,  0.70710678],\n",
              "       [ 0.        ,  0.70710678,  0.70710678,  0.        ],\n",
              "       [ 0.70710678,  0.        ,  0.        , -0.70710678],\n",
              "       [ 0.        ,  0.70710678, -0.70710678,  0.        ]])"
            ]
          },
          "metadata": {
            "tags": []
          },
          "execution_count": 117
        }
      ]
    },
    {
      "cell_type": "code",
      "metadata": {
        "trusted": true,
        "id": "uxf_Q4oa69_y",
        "colab_type": "code",
        "colab": {}
      },
      "source": [
        "def amplitudes(arry):\n",
        "    import numpy as np \n",
        "    import warnings\n",
        "    warnings.simplefilter(\"ignore\", np.ComplexWarning)\n",
        "    return (arry * np.conj(arry)).real\n"
      ],
      "execution_count": 0,
      "outputs": []
    },
    {
      "cell_type": "code",
      "metadata": {
        "trusted": true,
        "id": "CYXz_Xxn69_7",
        "colab_type": "code",
        "colab": {},
        "outputId": "7886cb37-b6b2-49cd-b859-2e70fb823a6c"
      },
      "source": [
        "amplitudes([2/5,1j*4/5,1j/5,2/5])"
      ],
      "execution_count": 0,
      "outputs": [
        {
          "output_type": "execute_result",
          "data": {
            "text/plain": [
              "array([0.16, 0.64, 0.04, 0.16])"
            ]
          },
          "metadata": {
            "tags": []
          },
          "execution_count": 3
        }
      ]
    },
    {
      "cell_type": "code",
      "metadata": {
        "trusted": true,
        "id": "0Irp_qOd69_-",
        "colab_type": "code",
        "colab": {},
        "outputId": "4b310efb-7644-4ee3-ecb3-7bc6601cb31e"
      },
      "source": [
        "Ah2.dot(Acx).dot(Ah2)"
      ],
      "execution_count": 0,
      "outputs": [
        {
          "output_type": "execute_result",
          "data": {
            "text/plain": [
              "array([[ 0.5,  0.5,  0.5, -0.5],\n",
              "       [ 0.5,  0.5, -0.5,  0.5],\n",
              "       [ 0.5, -0.5,  0.5,  0.5],\n",
              "       [-0.5,  0.5,  0.5,  0.5]])"
            ]
          },
          "metadata": {
            "tags": []
          },
          "execution_count": 23
        }
      ]
    },
    {
      "cell_type": "code",
      "metadata": {
        "trusted": true,
        "id": "vXvK_b066-AB",
        "colab_type": "code",
        "colab": {}
      },
      "source": [
        "Ahk = np.kron(Ah,Ah)"
      ],
      "execution_count": 0,
      "outputs": []
    },
    {
      "cell_type": "code",
      "metadata": {
        "trusted": true,
        "id": "IP1Qifp26-AE",
        "colab_type": "code",
        "colab": {}
      },
      "source": [
        "Axc = np.round(Ahk.dot(Acx).dot(Ahk))"
      ],
      "execution_count": 0,
      "outputs": []
    },
    {
      "cell_type": "code",
      "metadata": {
        "trusted": true,
        "id": "z2QN_gc46-AG",
        "colab_type": "code",
        "colab": {},
        "outputId": "0f6d9f6f-51d8-43e7-fb8f-9e4b508a0bab"
      },
      "source": [
        "Axc"
      ],
      "execution_count": 0,
      "outputs": [
        {
          "output_type": "execute_result",
          "data": {
            "text/plain": [
              "array([[ 1., -0., -0.,  0.],\n",
              "       [ 0., -0., -0.,  1.],\n",
              "       [-0.,  0.,  1., -0.],\n",
              "       [-0.,  1.,  0., -0.]])"
            ]
          },
          "metadata": {
            "tags": []
          },
          "execution_count": 39
        }
      ]
    },
    {
      "cell_type": "code",
      "metadata": {
        "trusted": true,
        "id": "TAJS4BHb6-AK",
        "colab_type": "code",
        "colab": {},
        "outputId": "8eed50db-f319-434c-884d-91cf4bb80240"
      },
      "source": [
        "np.round(Ah2.dot(Axc).dot(Ah2))"
      ],
      "execution_count": 0,
      "outputs": [
        {
          "output_type": "execute_result",
          "data": {
            "text/plain": [
              "array([[ 1.,  0., -0.,  0.],\n",
              "       [ 0.,  1.,  0., -0.],\n",
              "       [-0.,  0.,  1.,  0.],\n",
              "       [ 0.,  0.,  0., -1.]])"
            ]
          },
          "metadata": {
            "tags": []
          },
          "execution_count": 40
        }
      ]
    },
    {
      "cell_type": "code",
      "metadata": {
        "trusted": true,
        "id": "LizhdGje6-AN",
        "colab_type": "code",
        "colab": {}
      },
      "source": [
        ""
      ],
      "execution_count": 0,
      "outputs": []
    }
  ]
}